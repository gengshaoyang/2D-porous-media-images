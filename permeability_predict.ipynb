{
 "cells": [
  {
   "cell_type": "markdown",
   "metadata": {
    "id": "sVNuFJ1BvdQ5"
   },
   "source": [
    "# Pip & Import"
   ]
  },
  {
   "cell_type": "code",
   "execution_count": null,
   "metadata": {
    "executionInfo": {
     "elapsed": 4530,
     "status": "ok",
     "timestamp": 1687520894378,
     "user": {
      "displayName": "MinKay Zhang",
      "userId": "02473251341871207566"
     },
     "user_tz": -480
    },
    "id": "mDziVNsBvdM6"
   },
   "outputs": [],
   "source": [
    "import timm\n",
    "import time\n",
    "import os\n",
    "import cv2\n",
    "from tqdm import tqdm\n",
    "import numpy as np\n",
    "import pandas as pd\n",
    "import torch\n",
    "import torchvision\n",
    "import collections\n",
    "from sklearn import preprocessing\n",
    "from timm.optim import create_optimizer_v2\n",
    "from sklearn.metrics import r2_score\n",
    "import warnings\n",
    "warnings.filterwarnings(\"ignore\")"
   ]
  },
  {
   "cell_type": "markdown",
   "metadata": {
    "id": "MZK9S2TSvoxY"
   },
   "source": [
    "# Data Processing"
   ]
  },
  {
   "cell_type": "code",
   "execution_count": null,
   "metadata": {
    "colab": {
     "base_uri": "https://localhost:8080/",
     "height": 300
    },
    "executionInfo": {
     "elapsed": 29,
     "status": "ok",
     "timestamp": 1687520897729,
     "user": {
      "displayName": "MinKay Zhang",
      "userId": "02473251341871207566"
     },
     "user_tz": -480
    },
    "id": "QCgJeyhQwJtN",
    "outputId": "4c7498bd-7c6e-40dd-c830-4d66907f30bc"
   },
   "outputs": [],
   "source": [
    "df_data = pd.read_csv('permeability.csv')\n",
    "df_data.describe()"
   ]
  },
  {
   "cell_type": "code",
   "execution_count": null,
   "metadata": {
    "colab": {
     "base_uri": "https://localhost:8080/",
     "height": 300
    },
    "executionInfo": {
     "elapsed": 27,
     "status": "ok",
     "timestamp": 1687520897729,
     "user": {
      "displayName": "MinKay Zhang",
      "userId": "02473251341871207566"
     },
     "user_tz": -480
    },
    "id": "5LZLpAaQE9Y2",
    "outputId": "045ba348-1abe-43d6-e310-6d3aa10f681f"
   },
   "outputs": [],
   "source": [
    "min_max_scaler = preprocessing.MinMaxScaler(feature_range=(0,1))\n",
    "x_minmax = min_max_scaler.fit_transform(df_data[['permeability (mD)']])\n",
    "df_data['label'] = x_minmax\n",
    "df_data.describe()"
   ]
  },
  {
   "cell_type": "code",
   "execution_count": null,
   "metadata": {
    "executionInfo": {
     "elapsed": 27,
     "status": "ok",
     "timestamp": 1687520897730,
     "user": {
      "displayName": "MinKay Zhang",
      "userId": "02473251341871207566"
     },
     "user_tz": -480
    },
    "id": "SfgPIbrpGq8N"
   },
   "outputs": [],
   "source": [
    "class MyDataset(torch.utils.data.Dataset):\n",
    "    def __init__(self, imgs_dir:str, labels:dict, transform=None):\n",
    "        self.dataset = []\n",
    "        for img_name, label in labels.items():\n",
    "            img_path = os.path.join(imgs_dir, img_name)\n",
    "            self.dataset.append((img_path, label))\n",
    "        self.transform = transform\n",
    "        # print(self.dataset)\n",
    "\n",
    "    def __getitem__(self, index):\n",
    "        img_path, label = self.dataset[index]\n",
    "        img_bgr = cv2.imread(img_path)\n",
    "        img = cv2.cvtColor(img_bgr, cv2.COLOR_BGR2RGB)\n",
    "        # transform\n",
    "        if self.transform is not None:\n",
    "            img = self.transform(img)\n",
    "        return img, label\n",
    "\n",
    "    def __len__(self):\n",
    "        return len(self.dataset)"
   ]
  },
  {
   "cell_type": "code",
   "execution_count": null,
   "metadata": {
    "colab": {
     "base_uri": "https://localhost:8080/"
    },
    "executionInfo": {
     "elapsed": 27,
     "status": "ok",
     "timestamp": 1687520897730,
     "user": {
      "displayName": "MinKay Zhang",
      "userId": "02473251341871207566"
     },
     "user_tz": -480
    },
    "id": "hIlsp4O6OmHz",
    "outputId": "4b34d4e6-16c1-459f-b78f-2684c0f7e871"
   },
   "outputs": [],
   "source": [
    "dict_labels = {}\n",
    "for i, x in df_data.iterrows():\n",
    "    filename = str(int(x.loc['index']))+'.png'\n",
    "    label = x['label']\n",
    "    dict_labels[filename] = float(label)\n",
    "len(dict_labels)"
   ]
  },
  {
   "cell_type": "code",
   "execution_count": null,
   "metadata": {
    "executionInfo": {
     "elapsed": 24,
     "status": "ok",
     "timestamp": 1687520897730,
     "user": {
      "displayName": "MinKay Zhang",
      "userId": "02473251341871207566"
     },
     "user_tz": -480
    },
    "id": "wxl_lG5X1rXB"
   },
   "outputs": [],
   "source": [
    "transform = torchvision.transforms.Compose([\n",
    "  torchvision.transforms.ToTensor(),\n",
    "  torchvision.transforms.Resize([224, 224]),\n",
    "])"
   ]
  },
  {
   "cell_type": "code",
   "execution_count": null,
   "metadata": {
    "colab": {
     "base_uri": "https://localhost:8080/"
    },
    "executionInfo": {
     "elapsed": 24,
     "status": "ok",
     "timestamp": 1687520897731,
     "user": {
      "displayName": "MinKay Zhang",
      "userId": "02473251341871207566"
     },
     "user_tz": -480
    },
    "id": "LcIEWgw7QjKM",
    "outputId": "e7ed6440-bb91-43ba-a0b0-fefd7461ee7a"
   },
   "outputs": [],
   "source": [
    "dataset = MyDataset('./figure', dict_labels, transform=transform)\n",
    "total_count = dataset.__len__()\n",
    "\n",
    "test_count = int(0.2 * total_count)\n",
    "valid_count = int(0.2 * total_count)\n",
    "train_count = total_count - test_count - valid_count\n",
    "train_dataset, valid_dataset, test_dataset = torch.utils.data.random_split(\n",
    "    dataset, (train_count, valid_count, test_count), generator=torch.Generator().manual_seed(42)\n",
    ")\n",
    "print('Total: {}, Train: {}, Vali: {}, Test: {}'.format(total_count,train_count,valid_count, test_count))"
   ]
  },
  {
   "cell_type": "code",
   "execution_count": null,
   "metadata": {
    "executionInfo": {
     "elapsed": 22,
     "status": "ok",
     "timestamp": 1687520897731,
     "user": {
      "displayName": "MinKay Zhang",
      "userId": "02473251341871207566"
     },
     "user_tz": -480
    },
    "id": "aXubYqrSQYL1"
   },
   "outputs": [],
   "source": [
    "batch_size = 32\n",
    "train_loader = torch.utils.data.DataLoader(\n",
    "    train_dataset,\n",
    "    batch_size=batch_size,\n",
    "    num_workers=0,\n",
    "    prefetch_factor=2\n",
    ")\n",
    "\n",
    "valid_loader = torch.utils.data.DataLoader(\n",
    "    valid_dataset,\n",
    "    batch_size=batch_size,\n",
    "    num_workers=0,\n",
    "    prefetch_factor=2\n",
    ")\n",
    "\n",
    "test_loader = torch.utils.data.DataLoader(\n",
    "    test_dataset,\n",
    "    batch_size=batch_size,\n",
    "    num_workers=0,\n",
    "    prefetch_factor=2\n",
    ")"
   ]
  },
  {
   "cell_type": "markdown",
   "metadata": {
    "id": "PcHSpOF0v4iD"
   },
   "source": [
    "# Train & Test Function"
   ]
  },
  {
   "cell_type": "code",
   "execution_count": null,
   "metadata": {
    "executionInfo": {
     "elapsed": 23,
     "status": "ok",
     "timestamp": 1687520897732,
     "user": {
      "displayName": "MinKay Zhang",
      "userId": "02473251341871207566"
     },
     "user_tz": -480
    },
    "id": "dea_VNMHuzOm"
   },
   "outputs": [],
   "source": [
    "def train_model(model, output_path, train_loader, valid_loader, num_epochs, optimizer, ce, patience=100):\n",
    "    train_losses = []\n",
    "    valid_losses = []\n",
    "    valid_r2 = []\n",
    "    epoch_times = [] # List to store the epoch times\n",
    "    best_r2 = -100\n",
    "    early_stopping = 0\n",
    "\n",
    "    if not os.path.exists(output_path):\n",
    "        os.makedirs(output_path)\n",
    "\n",
    "    for epoch in range(num_epochs):\n",
    "        start_time = time.time()  # Record the start time of the epoch\n",
    "        losses = []\n",
    "    \n",
    "        # Training phase\n",
    "        for inputs, targets in tqdm(train_loader):\n",
    "            inputs = inputs.to(torch.device(device))\n",
    "            targets = targets.type(torch.float).to(torch.device(device))\n",
    "            outputs = model(inputs).squeeze()\n",
    "            # print(outputs.shape, targets.shape)\n",
    "            loss = ce(outputs, targets)\n",
    "            losses.append(loss)\n",
    "            optimizer.zero_grad()\n",
    "            loss.backward()\n",
    "            optimizer.step()\n",
    "            \n",
    "        train_losses.append((sum(losses)/len(losses)).cpu().tolist())\n",
    "        \n",
    "        # Validation phase\n",
    "        labels = []\n",
    "        preds  = []\n",
    "        losses = []\n",
    "        with torch.no_grad():\n",
    "            for inputs, targets in tqdm(valid_loader):\n",
    "                inputs = inputs.to(torch.device(device))\n",
    "                targets = targets.type(torch.float).to(torch.device(device))\n",
    "                outputs = model(inputs).squeeze()\n",
    "                loss = ce(outputs, targets)\n",
    "                losses.append(loss)\n",
    "                labels.append(targets)\n",
    "                preds.append(outputs)\n",
    "        valid_losses.append((sum(losses)/len(losses)).cpu().tolist())\n",
    "        labels = torch.cat(labels, dim=0)\n",
    "        preds = torch.cat(preds, dim=0)\n",
    "        r2 = r2_score(labels.cpu().numpy(), preds.cpu().numpy())\n",
    "        valid_r2.append(r2)\n",
    "    \n",
    "        end_time = time.time() # Record the end time of the epoch\n",
    "        epoch_time = end_time - start_time\n",
    "        epoch_times.append(epoch_time)  # Store the epoch time\n",
    "    \n",
    "        if r2 > best_r2:\n",
    "            best_r2 = r2\n",
    "            early_stopping = 0\n",
    "            torch.save(model.state_dict(), os.path.join(output_path, 'best.pth'))\n",
    "        else:\n",
    "            early_stopping += 1\n",
    "        \n",
    "        print('Epoch {}/{} | Train Loss: {} | Valid Loss: {} | R2 Score: {} | Epoch Time: {:.2f} seconds'.format(epoch+1, num_epochs, train_losses[-1], valid_losses[-1], r2, epoch_time))\n",
    "        \n",
    "        if early_stopping > patience:\n",
    "            break\n",
    "\n",
    "    df_train_log = pd.DataFrame.from_dict({'train_loss': train_losses, 'val_loss': valid_losses, 'val_r2': valid_r2, 'epoch_times':epoch_times})\n",
    "    df_train_log.to_csv(os.path.join(output_path, 'train_log.csv'), index=False)"
   ]
  },
  {
   "cell_type": "code",
   "execution_count": null,
   "metadata": {},
   "outputs": [],
   "source": [
    "def test_model(model, output_path, test_loader):\n",
    "    if not os.path.exists(output_path):\n",
    "        os.makedirs(output_path)\n",
    "    test_labels = []\n",
    "    test_preds = []\n",
    "    with torch.no_grad():\n",
    "        start_time = time.time()  # Record the start time\n",
    "        for inputs, targets in tqdm(test_loader):\n",
    "            inputs = inputs.to(torch.device(device))\n",
    "            targets = targets.type(torch.float).to(torch.device(device))\n",
    "            outputs = model(inputs)            \n",
    "            test_labels.append(targets)\n",
    "            test_preds.append(outputs)\n",
    "        end_time = time.time() # Record the end time\n",
    "        test_time = end_time - start_time\n",
    "    test_labels = torch.cat(test_labels, dim=0).squeeze()\n",
    "    test_preds = torch.cat(test_preds, dim=0).squeeze()\n",
    "    r2 = r2_score(test_labels.cpu().numpy(), test_preds.cpu().numpy())\n",
    "    print('test r2: {},test time: {}'.format(r2, test_time))\n",
    "    df_test_result = pd.DataFrame.from_dict({'labels': test_labels.cpu().tolist(), 'predicts': test_preds.cpu().tolist()})\n",
    "    df_test_result.to_csv(os.path.join(output_path, 'test_result.csv'), index=False)"
   ]
  },
  {
   "cell_type": "markdown",
   "metadata": {
    "id": "hrp9rjREv03d"
   },
   "source": [
    "# Model"
   ]
  },
  {
   "cell_type": "markdown",
   "metadata": {
    "id": "XO_2tm1v4MJr"
   },
   "source": [
    "# ResNet50"
   ]
  },
  {
   "cell_type": "code",
   "execution_count": null,
   "metadata": {
    "colab": {
     "base_uri": "https://localhost:8080/"
    },
    "executionInfo": {
     "elapsed": 1593,
     "status": "ok",
     "timestamp": 1687520899302,
     "user": {
      "displayName": "MinKay Zhang",
      "userId": "02473251341871207566"
     },
     "user_tz": -480
    },
    "id": "2smbwGETyLc1",
    "outputId": "5cd9853d-0bd1-4b96-ff4f-f96b61e9bc9f"
   },
   "outputs": [],
   "source": [
    "model_name = 'resnet101'\n",
    "resnet50 = timm.create_model(model_name, pretrained=True, num_classes=1, global_pool='avg')\n",
    "o = resnet50(torch.randn(2, 3, 224, 224))"
   ]
  },
  {
   "cell_type": "code",
   "execution_count": null,
   "metadata": {
    "colab": {
     "base_uri": "https://localhost:8080/"
    },
    "executionInfo": {
     "elapsed": 9,
     "status": "ok",
     "timestamp": 1687520955624,
     "user": {
      "displayName": "MinKay Zhang",
      "userId": "02473251341871207566"
     },
     "user_tz": -480
    },
    "id": "bi787qYxNmP6",
    "outputId": "1e547927-0334-40d6-8f74-416f904a4a34"
   },
   "outputs": [],
   "source": [
    "new_fc = torch.nn.Sequential(collections.OrderedDict([\n",
    "    ('relu2', torch.nn.ReLU()),\n",
    "    ('bn2', torch.nn.BatchNorm1d(2048)),\n",
    "    ('dropout', torch.nn.Dropout(0.1)),\n",
    "    ('fc2', torch.nn.Linear(2048, 1))\n",
    "    ]))\n",
    "print(new_fc)\n",
    "resnet50.fc = new_fc"
   ]
  },
  {
   "cell_type": "code",
   "execution_count": null,
   "metadata": {
    "colab": {
     "base_uri": "https://localhost:8080/"
    },
    "executionInfo": {
     "elapsed": 453,
     "status": "ok",
     "timestamp": 1687524450788,
     "user": {
      "displayName": "MinKay Zhang",
      "userId": "02473251341871207566"
     },
     "user_tz": -480
    },
    "id": "Y6MPVJo45qP2",
    "outputId": "5e6dec58-429e-484f-ffcf-027a1b3e3687"
   },
   "outputs": [],
   "source": [
    "resnet_path = './' + model_name+'_'+ str(total_count)\n",
    "path = os.path.join(resnet_path, 'best.pth')\n",
    "if os.path.exists(path):\n",
    "    resnet50.load_state_dict(torch.load(path))\n",
    "    print(\"model load successful\")"
   ]
  },
  {
   "cell_type": "code",
   "execution_count": null,
   "metadata": {
    "executionInfo": {
     "elapsed": 6,
     "status": "ok",
     "timestamp": 1687520963906,
     "user": {
      "displayName": "MinKay Zhang",
      "userId": "02473251341871207566"
     },
     "user_tz": -480
    },
    "id": "jpI4AO8J1hFT"
   },
   "outputs": [],
   "source": [
    "device = 'cuda' if torch.cuda.is_available() else 'cpu'\n",
    "torch.cuda.set_device('cuda:{}'.format(0))\n",
    "model = resnet50.to(device)\n",
    "print(torch.cuda.is_available())\n",
    "\n",
    "num_epochs = 100\n",
    "optimizer = torch.optim.Adam(model.parameters(), lr=0.0005, betas=(0.9, 0.999), eps=1e-08, weight_decay=1e-4)\n",
    "ce = torch.nn.HuberLoss()"
   ]
  },
  {
   "cell_type": "code",
   "execution_count": null,
   "metadata": {
    "colab": {
     "base_uri": "https://localhost:8080/",
     "height": 1000
    },
    "executionInfo": {
     "elapsed": 222697,
     "status": "error",
     "timestamp": 1687524434528,
     "user": {
      "displayName": "MinKay Zhang",
      "userId": "02473251341871207566"
     },
     "user_tz": -480
    },
    "id": "00DLhlmm7RPw",
    "outputId": "2e182cc7-bdf8-436c-faa9-c0776402d094"
   },
   "outputs": [],
   "source": [
    "train_model(resnet50, resnet_path, train_loader, valid_loader, num_epochs, optimizer, ce)"
   ]
  },
  {
   "cell_type": "code",
   "execution_count": null,
   "metadata": {
    "colab": {
     "base_uri": "https://localhost:8080/"
    },
    "executionInfo": {
     "elapsed": 21851,
     "status": "ok",
     "timestamp": 1687524482505,
     "user": {
      "displayName": "MinKay Zhang",
      "userId": "02473251341871207566"
     },
     "user_tz": -480
    },
    "id": "hU-yIuKpvyKQ",
    "outputId": "ec62529d-1b83-4c39-f03e-3250e6095630",
    "scrolled": true
   },
   "outputs": [],
   "source": [
    "test_model(resnet50, resnet_path, test_loader)"
   ]
  },
  {
   "cell_type": "code",
   "execution_count": null,
   "metadata": {},
   "outputs": [],
   "source": [
    "test_model(resnet50, resnet_path, train_loader)"
   ]
  },
  {
   "cell_type": "markdown",
   "metadata": {
    "id": "N1Ut354a7Seg"
   },
   "source": [
    "# Swin Transformmer"
   ]
  },
  {
   "cell_type": "code",
   "execution_count": null,
   "metadata": {
    "colab": {
     "base_uri": "https://localhost:8080/",
     "height": 66,
     "referenced_widgets": [
      "1b47b1e931214aa2860fbbf4c5188c42",
      "c42ed16c8aff4ec4aca815902d26a82f",
      "19b2f171429b48c883f82a6c4a41b244",
      "1e26e42511c64202af1b685297ba698d",
      "cc1ca6b0f1f2470e815a94963fd07a0e",
      "02bd36f172464d8292ff962380dd7064",
      "2c44ec067a054fa797b3739872a7d6e5",
      "cf5e8ffdd27c4c15bdd53b8c3caf9ced",
      "8e547dd7ad4e4a3fb474f075f1b7cd4e",
      "fac87a85641b4e0e8484056422c3a6cd",
      "b5dde86a90a541cd86ff35ff2d344d17"
     ]
    },
    "executionInfo": {
     "elapsed": 15019,
     "status": "ok",
     "timestamp": 1687512030672,
     "user": {
      "displayName": "MinKay Zhang",
      "userId": "02473251341871207566"
     },
     "user_tz": -480
    },
    "id": "gpHlLiVQ7cPA",
    "outputId": "ace1bdf0-4b32-4df6-b309-fa60e1d89430"
   },
   "outputs": [],
   "source": [
    "model_name = 'swin_base_patch4_window7_224'\n",
    "model_swin = timm.create_model(model_name, pretrained=True, num_classes=1, global_pool='avg')#\n",
    "o = model_swin(torch.randn(2, 3, 224, 224))\n",
    "print(f'OUT shape: {o.shape}')"
   ]
  },
  {
   "cell_type": "code",
   "execution_count": null,
   "metadata": {
    "colab": {
     "base_uri": "https://localhost:8080/"
    },
    "executionInfo": {
     "elapsed": 9,
     "status": "ok",
     "timestamp": 1687512030673,
     "user": {
      "displayName": "MinKay Zhang",
      "userId": "02473251341871207566"
     },
     "user_tz": -480
    },
    "id": "k8Cf0t5o7kc3",
    "outputId": "d1ff5a47-c451-45ee-82cb-09d27e23c14b"
   },
   "outputs": [],
   "source": [
    "new_fc = torch.nn.Sequential(collections.OrderedDict([\n",
    "    ('relu', torch.nn.ReLU()),# GELU ReLU\n",
    "    ('dropout', torch.nn.Dropout(0.1)),\n",
    "    ('fc', torch.nn.Linear(1024, 1))\n",
    "    ]))\n",
    "\n",
    "model_swin.head.fc = new_fc\n",
    "print(model_swin.head)"
   ]
  },
  {
   "cell_type": "code",
   "execution_count": null,
   "metadata": {
    "colab": {
     "base_uri": "https://localhost:8080/"
    },
    "executionInfo": {
     "elapsed": 10488,
     "status": "ok",
     "timestamp": 1687512041154,
     "user": {
      "displayName": "MinKay Zhang",
      "userId": "02473251341871207566"
     },
     "user_tz": -480
    },
    "id": "rzYq_iIp8ymq",
    "outputId": "73e50777-8a7d-4be5-c4e0-5b8e9f12209c"
   },
   "outputs": [],
   "source": [
    "swin_path = './'+ model_name+'_'+ str(400)\n",
    "\n",
    "path = os.path.join(swin_path, 'best.pth')\n",
    "if os.path.exists(path):\n",
    "    model_swin.load_state_dict(torch.load(path))\n",
    "    print(\"model load successful\")"
   ]
  },
  {
   "cell_type": "code",
   "execution_count": null,
   "metadata": {
    "executionInfo": {
     "elapsed": 23,
     "status": "ok",
     "timestamp": 1687512041155,
     "user": {
      "displayName": "MinKay Zhang",
      "userId": "02473251341871207566"
     },
     "user_tz": -480
    },
    "id": "QCmNAypj8yqq"
   },
   "outputs": [],
   "source": [
    "print(torch.cuda.is_available())\n",
    "device = 'cuda' if torch.cuda.is_available() else 'cpu'\n",
    "torch.cuda.set_device('cuda:{}'.format(0))\n",
    "model_swin = model_swin.to(device)\n",
    "\n",
    "num_epochs = 20\n",
    "optimizer = torch.optim.Adam(model_swin.parameters(), lr=1e-4, betas=(0.9, 0.999), eps=1e-08, weight_decay=1e-4)\n",
    "ce = torch.nn.HuberLoss()"
   ]
  },
  {
   "cell_type": "code",
   "execution_count": null,
   "metadata": {
    "executionInfo": {
     "elapsed": 20,
     "status": "aborted",
     "timestamp": 1687506135301,
     "user": {
      "displayName": "MinKay Zhang",
      "userId": "02473251341871207566"
     },
     "user_tz": -480
    },
    "id": "41hsjGi57cTV",
    "scrolled": true
   },
   "outputs": [],
   "source": [
    "train_model(model_swin, swin_path, train_loader, valid_loader, num_epochs, optimizer, ce)"
   ]
  },
  {
   "cell_type": "code",
   "execution_count": null,
   "metadata": {
    "colab": {
     "base_uri": "https://localhost:8080/"
    },
    "executionInfo": {
     "elapsed": 23482,
     "status": "ok",
     "timestamp": 1687512069516,
     "user": {
      "displayName": "MinKay Zhang",
      "userId": "02473251341871207566"
     },
     "user_tz": -480
    },
    "id": "pfQyAUb67cua",
    "outputId": "39e804a0-4747-47d9-a131-3bfe3c38b34e"
   },
   "outputs": [],
   "source": [
    "test_model(model_swin, swin_path, test_loader)"
   ]
  },
  {
   "cell_type": "code",
   "execution_count": null,
   "metadata": {},
   "outputs": [],
   "source": [
    "test_model(model_swin, swin_path, train_loader)"
   ]
  },
  {
   "cell_type": "markdown",
   "metadata": {},
   "source": [
    "# Densenet"
   ]
  },
  {
   "cell_type": "code",
   "execution_count": null,
   "metadata": {},
   "outputs": [],
   "source": [
    "model_name = 'densenet121' \n",
    "model = timm.create_model(model_name, pretrained=True, num_classes=1, global_pool='avg', drop_rate = 0.2)"
   ]
  },
  {
   "cell_type": "code",
   "execution_count": null,
   "metadata": {},
   "outputs": [],
   "source": [
    "num_classes = 1  \n",
    "in_features = model.classifier.in_features\n",
    "model.classifier = torch.nn.Linear(in_features, num_classes)\n",
    "\n",
    "model_path = './'+ model_name + '_'+ str(total_count)\n",
    "path = os.path.join(model_path, 'best.pth')\n",
    "if os.path.exists(path):\n",
    "    model.load_state_dict(torch.load(path))\n",
    "    print(\"model load successful\")\n",
    "\n",
    "print(torch.cuda.is_available())\n",
    "torch.cuda.empty_cache()\n",
    "device = torch.device('cuda' if torch.cuda.is_available() else 'cpu') \n",
    "model = model.to(device)\n",
    "\n",
    "num_epochs = 50\n",
    "optimizer = torch.optim.Adam(model.parameters(), lr=0.001, betas=(0.9, 0.999), eps=1e-08, weight_decay=1e-4)\n",
    "ce = torch.nn.HuberLoss()"
   ]
  },
  {
   "cell_type": "code",
   "execution_count": null,
   "metadata": {
    "scrolled": true
   },
   "outputs": [],
   "source": [
    "train_model(model, model_path, train_loader, valid_loader, num_epochs, optimizer, ce)"
   ]
  },
  {
   "cell_type": "code",
   "execution_count": null,
   "metadata": {
    "scrolled": true
   },
   "outputs": [],
   "source": [
    "test_model(model, model_path, test_loader)"
   ]
  },
  {
   "cell_type": "code",
   "execution_count": null,
   "metadata": {},
   "outputs": [],
   "source": [
    "test_model(model, model_path, train_loader)"
   ]
  }
 ],
 "metadata": {
  "accelerator": "GPU",
  "colab": {
   "authorship_tag": "ABX9TyNS+E8i6jq6gt9od7w0NeIE",
   "gpuType": "T4",
   "provenance": []
  },
  "kernelspec": {
   "display_name": "Python 3 (ipykernel)",
   "language": "python",
   "name": "python3"
  },
  "language_info": {
   "codemirror_mode": {
    "name": "ipython",
    "version": 3
   },
   "file_extension": ".py",
   "mimetype": "text/x-python",
   "name": "python",
   "nbconvert_exporter": "python",
   "pygments_lexer": "ipython3",
   "version": "3.10.9"
  },
  "widgets": {
   "application/vnd.jupyter.widget-state+json": {
    "02bd36f172464d8292ff962380dd7064": {
     "model_module": "@jupyter-widgets/base",
     "model_module_version": "1.2.0",
     "model_name": "LayoutModel",
     "state": {
      "_model_module": "@jupyter-widgets/base",
      "_model_module_version": "1.2.0",
      "_model_name": "LayoutModel",
      "_view_count": null,
      "_view_module": "@jupyter-widgets/base",
      "_view_module_version": "1.2.0",
      "_view_name": "LayoutView",
      "align_content": null,
      "align_items": null,
      "align_self": null,
      "border": null,
      "bottom": null,
      "display": null,
      "flex": null,
      "flex_flow": null,
      "grid_area": null,
      "grid_auto_columns": null,
      "grid_auto_flow": null,
      "grid_auto_rows": null,
      "grid_column": null,
      "grid_gap": null,
      "grid_row": null,
      "grid_template_areas": null,
      "grid_template_columns": null,
      "grid_template_rows": null,
      "height": null,
      "justify_content": null,
      "justify_items": null,
      "left": null,
      "margin": null,
      "max_height": null,
      "max_width": null,
      "min_height": null,
      "min_width": null,
      "object_fit": null,
      "object_position": null,
      "order": null,
      "overflow": null,
      "overflow_x": null,
      "overflow_y": null,
      "padding": null,
      "right": null,
      "top": null,
      "visibility": null,
      "width": null
     }
    },
    "1516d5174e534836af71629706839167": {
     "model_module": "@jupyter-widgets/controls",
     "model_module_version": "1.5.0",
     "model_name": "DescriptionStyleModel",
     "state": {
      "_model_module": "@jupyter-widgets/controls",
      "_model_module_version": "1.5.0",
      "_model_name": "DescriptionStyleModel",
      "_view_count": null,
      "_view_module": "@jupyter-widgets/base",
      "_view_module_version": "1.2.0",
      "_view_name": "StyleView",
      "description_width": ""
     }
    },
    "17f5d6693ac047a2b13378544665dd02": {
     "model_module": "@jupyter-widgets/controls",
     "model_module_version": "1.5.0",
     "model_name": "DescriptionStyleModel",
     "state": {
      "_model_module": "@jupyter-widgets/controls",
      "_model_module_version": "1.5.0",
      "_model_name": "DescriptionStyleModel",
      "_view_count": null,
      "_view_module": "@jupyter-widgets/base",
      "_view_module_version": "1.2.0",
      "_view_name": "StyleView",
      "description_width": ""
     }
    },
    "19b2f171429b48c883f82a6c4a41b244": {
     "model_module": "@jupyter-widgets/controls",
     "model_module_version": "1.5.0",
     "model_name": "FloatProgressModel",
     "state": {
      "_dom_classes": [],
      "_model_module": "@jupyter-widgets/controls",
      "_model_module_version": "1.5.0",
      "_model_name": "FloatProgressModel",
      "_view_count": null,
      "_view_module": "@jupyter-widgets/controls",
      "_view_module_version": "1.5.0",
      "_view_name": "ProgressView",
      "bar_style": "success",
      "description": "",
      "description_tooltip": null,
      "layout": "IPY_MODEL_cf5e8ffdd27c4c15bdd53b8c3caf9ced",
      "max": 352685652,
      "min": 0,
      "orientation": "horizontal",
      "style": "IPY_MODEL_8e547dd7ad4e4a3fb474f075f1b7cd4e",
      "value": 352685652
     }
    },
    "1b47b1e931214aa2860fbbf4c5188c42": {
     "model_module": "@jupyter-widgets/controls",
     "model_module_version": "1.5.0",
     "model_name": "HBoxModel",
     "state": {
      "_dom_classes": [],
      "_model_module": "@jupyter-widgets/controls",
      "_model_module_version": "1.5.0",
      "_model_name": "HBoxModel",
      "_view_count": null,
      "_view_module": "@jupyter-widgets/controls",
      "_view_module_version": "1.5.0",
      "_view_name": "HBoxView",
      "box_style": "",
      "children": [
       "IPY_MODEL_c42ed16c8aff4ec4aca815902d26a82f",
       "IPY_MODEL_19b2f171429b48c883f82a6c4a41b244",
       "IPY_MODEL_1e26e42511c64202af1b685297ba698d"
      ],
      "layout": "IPY_MODEL_cc1ca6b0f1f2470e815a94963fd07a0e"
     }
    },
    "1e26e42511c64202af1b685297ba698d": {
     "model_module": "@jupyter-widgets/controls",
     "model_module_version": "1.5.0",
     "model_name": "HTMLModel",
     "state": {
      "_dom_classes": [],
      "_model_module": "@jupyter-widgets/controls",
      "_model_module_version": "1.5.0",
      "_model_name": "HTMLModel",
      "_view_count": null,
      "_view_module": "@jupyter-widgets/controls",
      "_view_module_version": "1.5.0",
      "_view_name": "HTMLView",
      "description": "",
      "description_tooltip": null,
      "layout": "IPY_MODEL_fac87a85641b4e0e8484056422c3a6cd",
      "placeholder": "​",
      "style": "IPY_MODEL_b5dde86a90a541cd86ff35ff2d344d17",
      "value": " 353M/353M [00:09&lt;00:00, 38.7MB/s]"
     }
    },
    "22ae032b0ee5471393f6e00ba889b345": {
     "model_module": "@jupyter-widgets/controls",
     "model_module_version": "1.5.0",
     "model_name": "ProgressStyleModel",
     "state": {
      "_model_module": "@jupyter-widgets/controls",
      "_model_module_version": "1.5.0",
      "_model_name": "ProgressStyleModel",
      "_view_count": null,
      "_view_module": "@jupyter-widgets/base",
      "_view_module_version": "1.2.0",
      "_view_name": "StyleView",
      "bar_color": null,
      "description_width": ""
     }
    },
    "2c44ec067a054fa797b3739872a7d6e5": {
     "model_module": "@jupyter-widgets/controls",
     "model_module_version": "1.5.0",
     "model_name": "DescriptionStyleModel",
     "state": {
      "_model_module": "@jupyter-widgets/controls",
      "_model_module_version": "1.5.0",
      "_model_name": "DescriptionStyleModel",
      "_view_count": null,
      "_view_module": "@jupyter-widgets/base",
      "_view_module_version": "1.2.0",
      "_view_name": "StyleView",
      "description_width": ""
     }
    },
    "41fb7d77160c4fc78703126fb6bf6c98": {
     "model_module": "@jupyter-widgets/controls",
     "model_module_version": "1.5.0",
     "model_name": "FloatProgressModel",
     "state": {
      "_dom_classes": [],
      "_model_module": "@jupyter-widgets/controls",
      "_model_module_version": "1.5.0",
      "_model_name": "FloatProgressModel",
      "_view_count": null,
      "_view_module": "@jupyter-widgets/controls",
      "_view_module_version": "1.5.0",
      "_view_name": "ProgressView",
      "bar_style": "success",
      "description": "",
      "description_tooltip": null,
      "layout": "IPY_MODEL_c7dda2e4d24e42499670e85674e78d91",
      "max": 354400320,
      "min": 0,
      "orientation": "horizontal",
      "style": "IPY_MODEL_22ae032b0ee5471393f6e00ba889b345",
      "value": 354400320
     }
    },
    "5272b0fad95e40529c94e80e1d57ef75": {
     "model_module": "@jupyter-widgets/base",
     "model_module_version": "1.2.0",
     "model_name": "LayoutModel",
     "state": {
      "_model_module": "@jupyter-widgets/base",
      "_model_module_version": "1.2.0",
      "_model_name": "LayoutModel",
      "_view_count": null,
      "_view_module": "@jupyter-widgets/base",
      "_view_module_version": "1.2.0",
      "_view_name": "LayoutView",
      "align_content": null,
      "align_items": null,
      "align_self": null,
      "border": null,
      "bottom": null,
      "display": null,
      "flex": null,
      "flex_flow": null,
      "grid_area": null,
      "grid_auto_columns": null,
      "grid_auto_flow": null,
      "grid_auto_rows": null,
      "grid_column": null,
      "grid_gap": null,
      "grid_row": null,
      "grid_template_areas": null,
      "grid_template_columns": null,
      "grid_template_rows": null,
      "height": null,
      "justify_content": null,
      "justify_items": null,
      "left": null,
      "margin": null,
      "max_height": null,
      "max_width": null,
      "min_height": null,
      "min_width": null,
      "object_fit": null,
      "object_position": null,
      "order": null,
      "overflow": null,
      "overflow_x": null,
      "overflow_y": null,
      "padding": null,
      "right": null,
      "top": null,
      "visibility": null,
      "width": null
     }
    },
    "633433b3ee9046feb48881b6c402665d": {
     "model_module": "@jupyter-widgets/base",
     "model_module_version": "1.2.0",
     "model_name": "LayoutModel",
     "state": {
      "_model_module": "@jupyter-widgets/base",
      "_model_module_version": "1.2.0",
      "_model_name": "LayoutModel",
      "_view_count": null,
      "_view_module": "@jupyter-widgets/base",
      "_view_module_version": "1.2.0",
      "_view_name": "LayoutView",
      "align_content": null,
      "align_items": null,
      "align_self": null,
      "border": null,
      "bottom": null,
      "display": null,
      "flex": null,
      "flex_flow": null,
      "grid_area": null,
      "grid_auto_columns": null,
      "grid_auto_flow": null,
      "grid_auto_rows": null,
      "grid_column": null,
      "grid_gap": null,
      "grid_row": null,
      "grid_template_areas": null,
      "grid_template_columns": null,
      "grid_template_rows": null,
      "height": null,
      "justify_content": null,
      "justify_items": null,
      "left": null,
      "margin": null,
      "max_height": null,
      "max_width": null,
      "min_height": null,
      "min_width": null,
      "object_fit": null,
      "object_position": null,
      "order": null,
      "overflow": null,
      "overflow_x": null,
      "overflow_y": null,
      "padding": null,
      "right": null,
      "top": null,
      "visibility": null,
      "width": null
     }
    },
    "71487f99ca2242398f62e53f9698bc58": {
     "model_module": "@jupyter-widgets/controls",
     "model_module_version": "1.5.0",
     "model_name": "HTMLModel",
     "state": {
      "_dom_classes": [],
      "_model_module": "@jupyter-widgets/controls",
      "_model_module_version": "1.5.0",
      "_model_name": "HTMLModel",
      "_view_count": null,
      "_view_module": "@jupyter-widgets/controls",
      "_view_module_version": "1.5.0",
      "_view_name": "HTMLView",
      "description": "",
      "description_tooltip": null,
      "layout": "IPY_MODEL_5272b0fad95e40529c94e80e1d57ef75",
      "placeholder": "​",
      "style": "IPY_MODEL_1516d5174e534836af71629706839167",
      "value": " 354M/354M [00:08&lt;00:00, 42.8MB/s]"
     }
    },
    "7575a30217bd40f6bbf6a35591a301ee": {
     "model_module": "@jupyter-widgets/base",
     "model_module_version": "1.2.0",
     "model_name": "LayoutModel",
     "state": {
      "_model_module": "@jupyter-widgets/base",
      "_model_module_version": "1.2.0",
      "_model_name": "LayoutModel",
      "_view_count": null,
      "_view_module": "@jupyter-widgets/base",
      "_view_module_version": "1.2.0",
      "_view_name": "LayoutView",
      "align_content": null,
      "align_items": null,
      "align_self": null,
      "border": null,
      "bottom": null,
      "display": null,
      "flex": null,
      "flex_flow": null,
      "grid_area": null,
      "grid_auto_columns": null,
      "grid_auto_flow": null,
      "grid_auto_rows": null,
      "grid_column": null,
      "grid_gap": null,
      "grid_row": null,
      "grid_template_areas": null,
      "grid_template_columns": null,
      "grid_template_rows": null,
      "height": null,
      "justify_content": null,
      "justify_items": null,
      "left": null,
      "margin": null,
      "max_height": null,
      "max_width": null,
      "min_height": null,
      "min_width": null,
      "object_fit": null,
      "object_position": null,
      "order": null,
      "overflow": null,
      "overflow_x": null,
      "overflow_y": null,
      "padding": null,
      "right": null,
      "top": null,
      "visibility": null,
      "width": null
     }
    },
    "8c8e4c4b3e90449fb8008a39300faa09": {
     "model_module": "@jupyter-widgets/controls",
     "model_module_version": "1.5.0",
     "model_name": "HTMLModel",
     "state": {
      "_dom_classes": [],
      "_model_module": "@jupyter-widgets/controls",
      "_model_module_version": "1.5.0",
      "_model_name": "HTMLModel",
      "_view_count": null,
      "_view_module": "@jupyter-widgets/controls",
      "_view_module_version": "1.5.0",
      "_view_name": "HTMLView",
      "description": "",
      "description_tooltip": null,
      "layout": "IPY_MODEL_7575a30217bd40f6bbf6a35591a301ee",
      "placeholder": "​",
      "style": "IPY_MODEL_17f5d6693ac047a2b13378544665dd02",
      "value": "Downloading model.safetensors: 100%"
     }
    },
    "8e547dd7ad4e4a3fb474f075f1b7cd4e": {
     "model_module": "@jupyter-widgets/controls",
     "model_module_version": "1.5.0",
     "model_name": "ProgressStyleModel",
     "state": {
      "_model_module": "@jupyter-widgets/controls",
      "_model_module_version": "1.5.0",
      "_model_name": "ProgressStyleModel",
      "_view_count": null,
      "_view_module": "@jupyter-widgets/base",
      "_view_module_version": "1.2.0",
      "_view_name": "StyleView",
      "bar_color": null,
      "description_width": ""
     }
    },
    "b5dde86a90a541cd86ff35ff2d344d17": {
     "model_module": "@jupyter-widgets/controls",
     "model_module_version": "1.5.0",
     "model_name": "DescriptionStyleModel",
     "state": {
      "_model_module": "@jupyter-widgets/controls",
      "_model_module_version": "1.5.0",
      "_model_name": "DescriptionStyleModel",
      "_view_count": null,
      "_view_module": "@jupyter-widgets/base",
      "_view_module_version": "1.2.0",
      "_view_name": "StyleView",
      "description_width": ""
     }
    },
    "c42ed16c8aff4ec4aca815902d26a82f": {
     "model_module": "@jupyter-widgets/controls",
     "model_module_version": "1.5.0",
     "model_name": "HTMLModel",
     "state": {
      "_dom_classes": [],
      "_model_module": "@jupyter-widgets/controls",
      "_model_module_version": "1.5.0",
      "_model_name": "HTMLModel",
      "_view_count": null,
      "_view_module": "@jupyter-widgets/controls",
      "_view_module_version": "1.5.0",
      "_view_name": "HTMLView",
      "description": "",
      "description_tooltip": null,
      "layout": "IPY_MODEL_02bd36f172464d8292ff962380dd7064",
      "placeholder": "​",
      "style": "IPY_MODEL_2c44ec067a054fa797b3739872a7d6e5",
      "value": "Downloading model.safetensors: 100%"
     }
    },
    "c7dda2e4d24e42499670e85674e78d91": {
     "model_module": "@jupyter-widgets/base",
     "model_module_version": "1.2.0",
     "model_name": "LayoutModel",
     "state": {
      "_model_module": "@jupyter-widgets/base",
      "_model_module_version": "1.2.0",
      "_model_name": "LayoutModel",
      "_view_count": null,
      "_view_module": "@jupyter-widgets/base",
      "_view_module_version": "1.2.0",
      "_view_name": "LayoutView",
      "align_content": null,
      "align_items": null,
      "align_self": null,
      "border": null,
      "bottom": null,
      "display": null,
      "flex": null,
      "flex_flow": null,
      "grid_area": null,
      "grid_auto_columns": null,
      "grid_auto_flow": null,
      "grid_auto_rows": null,
      "grid_column": null,
      "grid_gap": null,
      "grid_row": null,
      "grid_template_areas": null,
      "grid_template_columns": null,
      "grid_template_rows": null,
      "height": null,
      "justify_content": null,
      "justify_items": null,
      "left": null,
      "margin": null,
      "max_height": null,
      "max_width": null,
      "min_height": null,
      "min_width": null,
      "object_fit": null,
      "object_position": null,
      "order": null,
      "overflow": null,
      "overflow_x": null,
      "overflow_y": null,
      "padding": null,
      "right": null,
      "top": null,
      "visibility": null,
      "width": null
     }
    },
    "cc1ca6b0f1f2470e815a94963fd07a0e": {
     "model_module": "@jupyter-widgets/base",
     "model_module_version": "1.2.0",
     "model_name": "LayoutModel",
     "state": {
      "_model_module": "@jupyter-widgets/base",
      "_model_module_version": "1.2.0",
      "_model_name": "LayoutModel",
      "_view_count": null,
      "_view_module": "@jupyter-widgets/base",
      "_view_module_version": "1.2.0",
      "_view_name": "LayoutView",
      "align_content": null,
      "align_items": null,
      "align_self": null,
      "border": null,
      "bottom": null,
      "display": null,
      "flex": null,
      "flex_flow": null,
      "grid_area": null,
      "grid_auto_columns": null,
      "grid_auto_flow": null,
      "grid_auto_rows": null,
      "grid_column": null,
      "grid_gap": null,
      "grid_row": null,
      "grid_template_areas": null,
      "grid_template_columns": null,
      "grid_template_rows": null,
      "height": null,
      "justify_content": null,
      "justify_items": null,
      "left": null,
      "margin": null,
      "max_height": null,
      "max_width": null,
      "min_height": null,
      "min_width": null,
      "object_fit": null,
      "object_position": null,
      "order": null,
      "overflow": null,
      "overflow_x": null,
      "overflow_y": null,
      "padding": null,
      "right": null,
      "top": null,
      "visibility": null,
      "width": null
     }
    },
    "cf5e8ffdd27c4c15bdd53b8c3caf9ced": {
     "model_module": "@jupyter-widgets/base",
     "model_module_version": "1.2.0",
     "model_name": "LayoutModel",
     "state": {
      "_model_module": "@jupyter-widgets/base",
      "_model_module_version": "1.2.0",
      "_model_name": "LayoutModel",
      "_view_count": null,
      "_view_module": "@jupyter-widgets/base",
      "_view_module_version": "1.2.0",
      "_view_name": "LayoutView",
      "align_content": null,
      "align_items": null,
      "align_self": null,
      "border": null,
      "bottom": null,
      "display": null,
      "flex": null,
      "flex_flow": null,
      "grid_area": null,
      "grid_auto_columns": null,
      "grid_auto_flow": null,
      "grid_auto_rows": null,
      "grid_column": null,
      "grid_gap": null,
      "grid_row": null,
      "grid_template_areas": null,
      "grid_template_columns": null,
      "grid_template_rows": null,
      "height": null,
      "justify_content": null,
      "justify_items": null,
      "left": null,
      "margin": null,
      "max_height": null,
      "max_width": null,
      "min_height": null,
      "min_width": null,
      "object_fit": null,
      "object_position": null,
      "order": null,
      "overflow": null,
      "overflow_x": null,
      "overflow_y": null,
      "padding": null,
      "right": null,
      "top": null,
      "visibility": null,
      "width": null
     }
    },
    "fac87a85641b4e0e8484056422c3a6cd": {
     "model_module": "@jupyter-widgets/base",
     "model_module_version": "1.2.0",
     "model_name": "LayoutModel",
     "state": {
      "_model_module": "@jupyter-widgets/base",
      "_model_module_version": "1.2.0",
      "_model_name": "LayoutModel",
      "_view_count": null,
      "_view_module": "@jupyter-widgets/base",
      "_view_module_version": "1.2.0",
      "_view_name": "LayoutView",
      "align_content": null,
      "align_items": null,
      "align_self": null,
      "border": null,
      "bottom": null,
      "display": null,
      "flex": null,
      "flex_flow": null,
      "grid_area": null,
      "grid_auto_columns": null,
      "grid_auto_flow": null,
      "grid_auto_rows": null,
      "grid_column": null,
      "grid_gap": null,
      "grid_row": null,
      "grid_template_areas": null,
      "grid_template_columns": null,
      "grid_template_rows": null,
      "height": null,
      "justify_content": null,
      "justify_items": null,
      "left": null,
      "margin": null,
      "max_height": null,
      "max_width": null,
      "min_height": null,
      "min_width": null,
      "object_fit": null,
      "object_position": null,
      "order": null,
      "overflow": null,
      "overflow_x": null,
      "overflow_y": null,
      "padding": null,
      "right": null,
      "top": null,
      "visibility": null,
      "width": null
     }
    },
    "fd35ecd6ca9d43519b15ed024a5e66a3": {
     "model_module": "@jupyter-widgets/controls",
     "model_module_version": "1.5.0",
     "model_name": "HBoxModel",
     "state": {
      "_dom_classes": [],
      "_model_module": "@jupyter-widgets/controls",
      "_model_module_version": "1.5.0",
      "_model_name": "HBoxModel",
      "_view_count": null,
      "_view_module": "@jupyter-widgets/controls",
      "_view_module_version": "1.5.0",
      "_view_name": "HBoxView",
      "box_style": "",
      "children": [
       "IPY_MODEL_8c8e4c4b3e90449fb8008a39300faa09",
       "IPY_MODEL_41fb7d77160c4fc78703126fb6bf6c98",
       "IPY_MODEL_71487f99ca2242398f62e53f9698bc58"
      ],
      "layout": "IPY_MODEL_633433b3ee9046feb48881b6c402665d"
     }
    }
   }
  }
 },
 "nbformat": 4,
 "nbformat_minor": 1
}
